{
 "cells": [
  {
   "cell_type": "markdown",
   "metadata": {},
   "source": [
    "## Dictionary, Set: Under the Hood \n"
   ]
  },
  {
   "cell_type": "markdown",
   "metadata": {},
   "source": [
    "هش یک سیستم سیگنال سیگنیچر یا امضای دیجیتال بعنوان مثال برای نصب\n",
    "اناکوندا دیدیم که هش رو برای بررسی سالم بوپن فایل بهمون میداد "
   ]
  },
  {
   "cell_type": "code",
   "execution_count": 2,
   "metadata": {},
   "outputs": [
    {
     "data": {
      "text/plain": [
       "5"
      ]
     },
     "execution_count": 2,
     "metadata": {},
     "output_type": "execute_result"
    }
   ],
   "source": [
    "hash (5)"
   ]
  },
  {
   "cell_type": "code",
   "execution_count": 3,
   "metadata": {},
   "outputs": [
    {
     "data": {
      "text/plain": [
       "9020447997536656672"
      ]
     },
     "execution_count": 3,
     "metadata": {},
     "output_type": "execute_result"
    }
   ],
   "source": [
    "hash ('a')"
   ]
  },
  {
   "cell_type": "markdown",
   "metadata": {},
   "source": [
    "تابع هش یکسری دیتا رو بعنوان ورودی میگیره ومپ میکنه به یک فیکس دیتایی هش میکنه\n"
   ]
  },
  {
   "cell_type": "markdown",
   "metadata": {},
   "source": [
    "A hash function is any function that can be used to map data of arbitrary size to fixed-size values. "
   ]
  },
  {
   "cell_type": "markdown",
   "metadata": {},
   "source": [
    "انواع واقسام هش فانشن وجود داره و به ولیوی خروجی  یک : گفته میشود. "
   ]
  },
  {
   "cell_type": "markdown",
   "metadata": {},
   "source": [
    "The values returned by a hash function are called **hash values**, **hash codes**, **digests**, or simply **hashes**. "
   ]
  },
  {
   "cell_type": "markdown",
   "metadata": {},
   "source": [
    "ویژگی ها:  \n",
    "باید یونیک باشه اگر ورودی متفاوت باشد باید خروجی هم متفاوت باشد و با ورودی متفاوت خروجی یکسانی ندهد\n",
    " تابع یکطرفه باشد و فقط ورودی بگیره ونتوان از خروجی به ورودی رسید\n",
    "با رمز نگاری متفاوته با هش و...ب"
   ]
  },
  {
   "cell_type": "code",
   "execution_count": 6,
   "metadata": {},
   "outputs": [],
   "source": [
    "names = ['zahra' , 'nilofar' ,'hasti' ,'ali' ,'mahdi' ,'mehran']"
   ]
  },
  {
   "cell_type": "code",
   "execution_count": 14,
   "metadata": {},
   "outputs": [
    {
     "data": {
      "text/plain": [
       "True"
      ]
     },
     "execution_count": 14,
     "metadata": {},
     "output_type": "execute_result"
    }
   ],
   "source": [
    "'zahra' in names #o(n)"
   ]
  },
  {
   "cell_type": "code",
   "execution_count": 15,
   "metadata": {},
   "outputs": [
    {
     "data": {
      "text/plain": [
       "False"
      ]
     },
     "execution_count": 15,
     "metadata": {},
     "output_type": "execute_result"
    }
   ],
   "source": [
    "'hasan' in names"
   ]
  },
  {
   "cell_type": "markdown",
   "metadata": {},
   "source": [
    "پروسه بالا خیلی اسمامی بیشتر بشه این تابع سرچ بودن ونبودن  خیلی سنگین وکند میشه "
   ]
  },
  {
   "cell_type": "markdown",
   "metadata": {},
   "source": [
    "حالا اگر از عالم غیب خبر بدن که حسن در خانه ۴ هستش با یک مقایسه میتوان فهمید در اونجا حضور داره یا خیر"
   ]
  },
  {
   "cell_type": "code",
   "execution_count": 18,
   "metadata": {},
   "outputs": [
    {
     "data": {
      "text/plain": [
       "False"
      ]
     },
     "execution_count": 18,
     "metadata": {},
     "output_type": "execute_result"
    }
   ],
   "source": [
    "'hasan' == names[4] #1"
   ]
  },
  {
   "cell_type": "markdown",
   "metadata": {},
   "source": [
    "## Collisions"
   ]
  },
  {
   "cell_type": "markdown",
   "metadata": {},
   "source": [
    "حالا اگر  دو خانه باهم هش  یکسانی داشته باشن کالیژن رخ میده مه یاد بگیریم چجوری حلش کنیم."
   ]
  },
  {
   "cell_type": "markdown",
   "metadata": {},
   "source": [
    "انواع و اقسام زیادی برای حل کردن این مشکل وجود داره."
   ]
  },
  {
   "cell_type": "markdown",
   "metadata": {},
   "source": [
    "open addresing\n",
    "\n",
    "\n",
    "نوعی راه حل برای حل کالیژن  هستش که میگه اگه مودت به تعداد خانه های موجودت پر بود اونقدر برو جلو تا یم خانه خالی پیدا کنی و هرجایی خواستی دخیره کن حالا درست نیست هرجایی ذخیرش کنیم برای پیدا کردنش گیج میشیم و کالیژن دوباره رخ میده و این روش درستی نیستش وباعث میشه دوباره سرعت شبیه یا نزدیک سرچ خطی میشه وکند میشویم"
   ]
  },
  {
   "cell_type": "markdown",
   "metadata": {},
   "source": [
    "حالا چیکار کنیم؟میایم تعدادخونه ها رو بیشتر میکنیم تا کالیژن پیش نیادوهر سری هش قبلیا رو حساب و مود رو براساس تعدادخانه های جدید میگیریم"
   ]
  },
  {
   "cell_type": "markdown",
   "metadata": {},
   "source": [
    "در نهایت هرچی تعداد خونه ها بیشتر باشه بهتره وکالیژن ها کمتر رخ میده"
   ]
  },
  {
   "cell_type": "markdown",
   "metadata": {},
   "source": [
    "#### Collision Resolution\n",
    "\n",
    "- Linear probing\n",
    "- Plus 3 rehash\n",
    "- Quadratic probing (failed attempts)^2\n",
    "- Double rehashing"
   ]
  },
  {
   "cell_type": "markdown",
   "metadata": {},
   "source": [
    "### Closed Addressing"
   ]
  },
  {
   "cell_type": "markdown",
   "metadata": {},
   "source": [
    "در اینجا اگر هش خونه ای بود یک عدد قرار نیست مثل اوپن جای دیگه ای ذخیره بشه و بباید در همون خونه ذخیره بشه. "
   ]
  },
  {
   "cell_type": "markdown",
   "metadata": {},
   "source": [
    "در هر خونه یک پوینتر نگهمیداریم و هر کدوم به یک لیست دیگه اشاره میکنه و لینک لیسته"
   ]
  },
  {
   "cell_type": "markdown",
   "metadata": {},
   "source": [
    "فرقی نداره ابنم کالیژن رخ بده باید دنبال بکیری از المان ها بگردبم و دوباره همون شبیه لیست خطی زمان بر میشه "
   ]
  },
  {
   "cell_type": "markdown",
   "metadata": {},
   "source": [
    "حافظه بیشتری در این روش ذخیره میشه هر کدوم یک پوینتری داره و هرکپوم یک لینک لیست بیشتری داره"
   ]
  },
  {
   "cell_type": "markdown",
   "metadata": {},
   "source": [
    "### Objective of Hash Function"
   ]
  },
  {
   "cell_type": "markdown",
   "metadata": {},
   "source": [
    "So when choosing a hash function, there are some objectives to bear in mind:\n",
    "- Minimize collisions\n",
    "کالیژن ها کمتر بشه و هش دوتا ولیو متفاووت باشه \n",
    "- Uniform distribution of hash values\n",
    "هش یک تعداد المان ها  نزدیک به هم نباشه\n",
    "- Easy to calculate\n",
    "راحت باشه محاسبه کردنش\n",
    "- Resolve any collisions\n",
    "یک روشی برای رفع کالیژن رخ داده داشته باشیم"
   ]
  },
  {
   "cell_type": "code",
   "execution_count": null,
   "metadata": {},
   "outputs": [],
   "source": []
  }
 ],
 "metadata": {
  "kernelspec": {
   "display_name": "Python 3",
   "language": "python",
   "name": "python3"
  },
  "language_info": {
   "codemirror_mode": {
    "name": "ipython",
    "version": 3
   },
   "file_extension": ".py",
   "mimetype": "text/x-python",
   "name": "python",
   "nbconvert_exporter": "python",
   "pygments_lexer": "ipython3",
   "version": "3.7.6"
  }
 },
 "nbformat": 4,
 "nbformat_minor": 4
}
