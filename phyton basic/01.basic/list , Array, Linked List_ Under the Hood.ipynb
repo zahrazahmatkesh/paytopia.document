{
 "cells": [
  {
   "cell_type": "markdown",
   "metadata": {},
   "source": [
    "## Space/Time Complexity"
   ]
  },
  {
   "cell_type": "code",
   "execution_count": null,
   "metadata": {},
   "outputs": [],
   "source": []
  },
  {
   "cell_type": "markdown",
   "metadata": {},
   "source": [
    "\n",
    "### Time Complexity"
   ]
  },
  {
   "cell_type": "markdown",
   "metadata": {},
   "source": [
    "#### File Transfer Problem"
   ]
  },
  {
   "cell_type": "markdown",
   "metadata": {},
   "source": [
    "**How to transfer a file?**\n",
    "1. plane: O(1)\n",
    "2. email: O(s)"
   ]
  },
  {
   "cell_type": "markdown",
   "metadata": {},
   "source": [
    "نرخ تغییرات به نسبت ورودی تعیین میکند تحت یم شرایطی ایمیل به ورودی بستگی داره ولی برای هواپیما ثابت هر مقدار حجم فایل رو جابجا کنیم تا زمانی که سایز برنامه کم باشه ایمیل بهتره"
   ]
  },
  {
   "cell_type": "markdown",
   "metadata": {},
   "source": [
    "```python\n",
    "for i in range(n):\n",
    "    for j in range(n):\n",
    "        # O(1) operation here\n",
    "```"
   ]
  },
  {
   "cell_type": "code",
   "execution_count": 13,
   "metadata": {},
   "outputs": [
    {
     "name": "stdout",
     "output_type": "stream",
     "text": [
      " 0  0  0  0  0  0  0  0  0  0 \n",
      " 0  1  2  3  4  5  6  7  8  9 \n",
      " 0  2  4  6  8 10 12 14 16 18 \n",
      " 0  3  6  9 12 15 18 21 24 27 \n",
      " 0  4  8 12 16 20 24 28 32 36 \n",
      " 0  5 10 15 20 25 30 35 40 45 \n",
      " 0  6 12 18 24 30 36 42 48 54 \n",
      " 0  7 14 21 28 35 42 49 56 63 \n",
      " 0  8 16 24 32 40 48 56 64 72 \n",
      " 0  9 18 27 36 45 54 63 72 81 \n"
     ]
    }
   ],
   "source": [
    "n = 10\n",
    "for i in range(n):\n",
    "    for j in range(n):\n",
    "        print (f'{i*j:2}', end = ' ' )\n",
    "    print()    "
   ]
  },
  {
   "cell_type": "markdown",
   "metadata": {},
   "source": [
    "n = 10 --> 2s\n",
    "n = 20 --> 8s\n",
    "o(n^2)"
   ]
  },
  {
   "cell_type": "code",
   "execution_count": 15,
   "metadata": {},
   "outputs": [
    {
     "name": "stdout",
     "output_type": "stream",
     "text": [
      " 0  0  0  0  0 \n",
      " 0  1  2  3  4 \n",
      " 0  2  4  6  8 \n",
      " 0  3  6  9 12 \n",
      " 0  4  8 12 16 \n",
      " 0  5 10 15 20 \n",
      " 0  6 12 18 24 \n",
      " 0  7 14 21 28 \n",
      " 0  8 16 24 32 \n",
      " 0  9 18 27 36 \n"
     ]
    }
   ],
   "source": [
    "#o(n*m)\n",
    "n = 10\n",
    "m = 5\n",
    "for i in range(n):\n",
    "    for j in range(m):\n",
    "        print (f'{i*j:2}', end = ' ' )\n",
    "    print()    "
   ]
  },
  {
   "cell_type": "markdown",
   "metadata": {},
   "source": [
    "**Linear Search**\n",
    "```python\n",
    "for item in mylist:\n",
    "    if item == \"target\":\n",
    "        print(\"found it\")\n",
    "```"
   ]
  },
  {
   "cell_type": "code",
   "execution_count": 17,
   "metadata": {},
   "outputs": [],
   "source": [
    "list_a = [1,8,11,5,1,99,125,55]"
   ]
  },
  {
   "cell_type": "markdown",
   "metadata": {},
   "source": [
    "**Binary Search**`"
   ]
  },
  {
   "cell_type": "markdown",
   "metadata": {},
   "source": [
    "همون سرچ باینری هستش  o(log n)"
   ]
  },
  {
   "cell_type": "markdown",
   "metadata": {},
   "source": [
    "### Space Complexity"
   ]
  },
  {
   "cell_type": "markdown",
   "metadata": {},
   "source": [
    "همون تایم کامپلکسیتی هست ولی اینبار بحث فضای اشغال شد هستش مثلا کدوم مقدار رم اشغال میکند "
   ]
  },
  {
   "cell_type": "markdown",
   "metadata": {},
   "source": [
    "## Array"
   ]
  },
  {
   "cell_type": "markdown",
   "metadata": {},
   "source": [
    "یکسری خونه های متوالی پشت سر هم اری رو تشکیل میده. "
   ]
  },
  {
   "cell_type": "markdown",
   "metadata": {},
   "source": [
    "خونه های ارری باید همگن باشند و در یک ارری باید یا اینتیجر باشه یا استرینگ یا...فقط باید باشه"
   ]
  },
  {
   "cell_type": "code",
   "execution_count": 7,
   "metadata": {},
   "outputs": [],
   "source": [
    "from array import array\n",
    "a = array('i' ,[1,2,3,4,5,6,7,8])"
   ]
  },
  {
   "cell_type": "code",
   "execution_count": 8,
   "metadata": {},
   "outputs": [
    {
     "data": {
      "text/plain": [
       "1"
      ]
     },
     "execution_count": 8,
     "metadata": {},
     "output_type": "execute_result"
    }
   ],
   "source": [
    "a[0]#accses"
   ]
  },
  {
   "cell_type": "code",
   "execution_count": 9,
   "metadata": {},
   "outputs": [
    {
     "data": {
      "text/plain": [
       "7"
      ]
     },
     "execution_count": 9,
     "metadata": {},
     "output_type": "execute_result"
    }
   ],
   "source": [
    "a[6]"
   ]
  },
  {
   "cell_type": "markdown",
   "metadata": {},
   "source": [
    "accses be size input bastegi nadarad. chon hamgen hastan mitoneh fast on ro neshon bedeh."
   ]
  },
  {
   "cell_type": "markdown",
   "metadata": {},
   "source": [
    "access --> o(1)\n",
    "search --> o(n)\n",
    "delete --> o(n)\n",
    "insert --> o(n)"
   ]
  },
  {
   "cell_type": "markdown",
   "metadata": {},
   "source": [
    "## Linked List"
   ]
  },
  {
   "cell_type": "markdown",
   "metadata": {},
   "source": [
    "access --> o(n)\n",
    "search --> o(n)\n",
    "delete --> o(1)\n",
    "insert --> o(1)"
   ]
  },
  {
   "cell_type": "markdown",
   "metadata": {},
   "source": [
    "## Array vs. Linked List"
   ]
  },
  {
   "cell_type": "markdown",
   "metadata": {},
   "source": [
    "|Basis for Comparison|Array|Linked List|\n",
    "|:--|:--|:--|\n",
    "|**Basic**|It is a consistent set of a fixed number of data items. |It is an ordered set comprising a variable number of data items.|\n",
    "|**Size**|\tSpecified during declaration.|\tNo need to specify; grow and shrink during execution.|\n",
    "|**Storage**| Allocation|\tElement location is allocated during compile time.\tElement position is assigned during run time.|\n",
    "|**Order of the elements**|\tStored consecutively|\tStored randomly|\n",
    "|**Accessing the element**|\tDirect or randomly accessed, i.e., Specify the array index or subscript.|\tSequentially accessed, i.e., Traverse starting from the first node in the list by the pointer.|\n",
    "|**Insertion and deletion of element**|\tSlow relatively as shifting is required.|Easier, fast and efficient.\n",
    "|**Searching**|\tBinary search and linear search|Linear search|\n",
    "|**Memory required**|\tLess|\tMore|\n",
    "|**Memory Utilization**|\tIneffective|\tEfficient|"
   ]
  },
  {
   "cell_type": "markdown",
   "metadata": {},
   "source": [
    "## List"
   ]
  },
  {
   "cell_type": "markdown",
   "metadata": {},
   "source": [
    "access --> o(1)\n",
    "```phyton\n",
    "dar list khod eleman save nmishe va pointer save mishe\n",
    "```\n",
    "search --> o(n)\n",
    "delete --> o(n)\n",
    "insert --> o(n)"
   ]
  },
  {
   "cell_type": "code",
   "execution_count": 11,
   "metadata": {},
   "outputs": [],
   "source": [
    "l = [1 ,2 ,3 ,'ali']"
   ]
  },
  {
   "cell_type": "code",
   "execution_count": 12,
   "metadata": {},
   "outputs": [
    {
     "name": "stdout",
     "output_type": "stream",
     "text": [
      "47.6 ns ± 2.89 ns per loop (mean ± std. dev. of 7 runs, 10000000 loops each)\n"
     ]
    }
   ],
   "source": [
    "%timeit l[0]"
   ]
  },
  {
   "cell_type": "code",
   "execution_count": 13,
   "metadata": {},
   "outputs": [
    {
     "name": "stdout",
     "output_type": "stream",
     "text": [
      "47.1 ns ± 4.51 ns per loop (mean ± std. dev. of 7 runs, 10000000 loops each)\n"
     ]
    }
   ],
   "source": [
    "%timeit l[3]"
   ]
  },
  {
   "cell_type": "markdown",
   "metadata": {},
   "source": [
    "access --> o(1)"
   ]
  },
  {
   "cell_type": "code",
   "execution_count": 14,
   "metadata": {},
   "outputs": [],
   "source": [
    "import sys"
   ]
  },
  {
   "cell_type": "code",
   "execution_count": 22,
   "metadata": {},
   "outputs": [
    {
     "data": {
      "text/plain": [
       "28"
      ]
     },
     "execution_count": 22,
     "metadata": {},
     "output_type": "execute_result"
    }
   ],
   "source": [
    "sys.getsizeof(l[0])"
   ]
  },
  {
   "cell_type": "code",
   "execution_count": 23,
   "metadata": {},
   "outputs": [
    {
     "data": {
      "text/plain": [
       "52"
      ]
     },
     "execution_count": 23,
     "metadata": {},
     "output_type": "execute_result"
    }
   ],
   "source": [
    "sys.getsizeof(l[3])"
   ]
  },
  {
   "cell_type": "markdown",
   "metadata": {},
   "source": [
    "pointer ha 8 byte hastan chon system 64 biti bodeh .har address 8 byte hast.mohtava mohem nist"
   ]
  },
  {
   "cell_type": "code",
   "execution_count": 24,
   "metadata": {},
   "outputs": [
    {
     "data": {
      "text/plain": [
       "72"
      ]
     },
     "execution_count": 24,
     "metadata": {},
     "output_type": "execute_result"
    }
   ],
   "source": [
    "sys.getsizeof([])"
   ]
  },
  {
   "cell_type": "code",
   "execution_count": 25,
   "metadata": {},
   "outputs": [
    {
     "data": {
      "text/plain": [
       "8"
      ]
     },
     "execution_count": 25,
     "metadata": {},
     "output_type": "execute_result"
    }
   ],
   "source": [
    "sys.getsizeof([1])-72"
   ]
  },
  {
   "cell_type": "code",
   "execution_count": 26,
   "metadata": {},
   "outputs": [
    {
     "data": {
      "text/plain": [
       "40"
      ]
     },
     "execution_count": 26,
     "metadata": {},
     "output_type": "execute_result"
    }
   ],
   "source": [
    "sys.getsizeof([1 , 2, 3 ,'a' ,'b'])-72"
   ]
  },
  {
   "cell_type": "markdown",
   "metadata": {},
   "source": [
    "***dar list 8 byte baray har khone eshgal shode vali array chon hamgen hast on 8byte ro nemigireh"
   ]
  },
  {
   "cell_type": "code",
   "execution_count": 27,
   "metadata": {},
   "outputs": [],
   "source": [
    "x = [1 , 2 , 3]"
   ]
  },
  {
   "cell_type": "code",
   "execution_count": 28,
   "metadata": {},
   "outputs": [],
   "source": [
    "#insert bast case\n",
    "x.append(4)\n"
   ]
  },
  {
   "cell_type": "code",
   "execution_count": 31,
   "metadata": {},
   "outputs": [
    {
     "data": {
      "text/plain": [
       "[0, 1, 2, 3, 4]"
      ]
     },
     "execution_count": 31,
     "metadata": {},
     "output_type": "execute_result"
    }
   ],
   "source": [
    "#worst case va hame ro shift mideh\n",
    "[0] + x"
   ]
  },
  {
   "cell_type": "code",
   "execution_count": 32,
   "metadata": {},
   "outputs": [
    {
     "data": {
      "text/plain": [
       "4"
      ]
     },
     "execution_count": 32,
     "metadata": {},
     "output_type": "execute_result"
    }
   ],
   "source": [
    "#delete best case\n",
    "x.pop()"
   ]
  },
  {
   "cell_type": "code",
   "execution_count": 34,
   "metadata": {},
   "outputs": [],
   "source": [
    "#worst case\n",
    "del(x[0])"
   ]
  },
  {
   "cell_type": "code",
   "execution_count": 45,
   "metadata": {},
   "outputs": [
    {
     "name": "stdout",
     "output_type": "stream",
     "text": [
      "       size capacity\n",
      "         1     4.0\n",
      "         2     4.0\n",
      "         3     4.0\n",
      "         4     4.0\n",
      "         5     8.0\n",
      "         6     8.0\n",
      "         7     8.0\n",
      "         8     8.0\n",
      "         9     16.0\n",
      "        10     16.0\n"
     ]
    }
   ],
   "source": [
    "y = []\n",
    "print(f'       size capacity')\n",
    "for i in range(10):\n",
    "    y.append(i)\n",
    "    l_cpacity = (sys.getsizeof(y)-72)/8\n",
    "    length = len(y)\n",
    "    \n",
    "    print(f'{length:10}     {l_cpacity}')"
   ]
  },
  {
   "cell_type": "code",
   "execution_count": null,
   "metadata": {},
   "outputs": [],
   "source": []
  }
 ],
 "metadata": {
  "kernelspec": {
   "display_name": "Python 3",
   "language": "python",
   "name": "python3"
  },
  "language_info": {
   "codemirror_mode": {
    "name": "ipython",
    "version": 3
   },
   "file_extension": ".py",
   "mimetype": "text/x-python",
   "name": "python",
   "nbconvert_exporter": "python",
   "pygments_lexer": "ipython3",
   "version": "3.7.6"
  }
 },
 "nbformat": 4,
 "nbformat_minor": 4
}
