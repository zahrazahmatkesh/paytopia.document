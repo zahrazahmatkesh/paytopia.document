{
 "cells": [
  {
   "cell_type": "markdown",
   "metadata": {},
   "source": [
    "## Conditional Statements in Python"
   ]
  },
  {
   "cell_type": "markdown",
   "metadata": {},
   "source": [
    "تمام کارهایی که از قبل می کردیم به سرعت اجرا میشد و در پروگرمینگ لازمه تاکنترلی روی اجرا شدن یا نشدن قسمتی از کد رو داشته باشیم که کنترل استراکچرها به ما برای اجرای این فرایند کمک میکند.   "
   ]
  },
  {
   "cell_type": "markdown",
   "metadata": {},
   "source": [
    "## Introduction to the `if` Statement"
   ]
  },
  {
   "cell_type": "markdown",
   "metadata": {},
   "source": [
    "We’ll start by looking at the most basic type of `if` statement. In its simplest form, it looks like this:\n",
    "\n",
    "```python\n",
    "if <expr>:\n",
    "    <statement>\n",
    "```"
   ]
  },
  {
   "cell_type": "code",
   "execution_count": 6,
   "metadata": {},
   "outputs": [],
   "source": [
    "x = 2"
   ]
  },
  {
   "cell_type": "code",
   "execution_count": 7,
   "metadata": {},
   "outputs": [],
   "source": [
    "if None :\n",
    "    print(\"x is 2\") #off side rule"
   ]
  },
  {
   "cell_type": "code",
   "execution_count": 8,
   "metadata": {},
   "outputs": [
    {
     "name": "stdout",
     "output_type": "stream",
     "text": [
      "x is 2\n"
     ]
    }
   ],
   "source": [
    "if [2] :\n",
    "    print(\"x is 2\")"
   ]
  },
  {
   "cell_type": "code",
   "execution_count": 9,
   "metadata": {},
   "outputs": [
    {
     "name": "stdout",
     "output_type": "stream",
     "text": [
      "outside block\n"
     ]
    }
   ],
   "source": [
    "if 0 :\n",
    "    print(\"x is 2\")\n",
    "\n",
    "print(\"outside block\")"
   ]
  },
  {
   "cell_type": "code",
   "execution_count": 11,
   "metadata": {},
   "outputs": [],
   "source": [
    "x =2"
   ]
  },
  {
   "cell_type": "code",
   "execution_count": 12,
   "metadata": {},
   "outputs": [],
   "source": [
    "y =5"
   ]
  },
  {
   "cell_type": "code",
   "execution_count": 14,
   "metadata": {},
   "outputs": [
    {
     "name": "stdout",
     "output_type": "stream",
     "text": [
      "x less than y\n"
     ]
    }
   ],
   "source": [
    "if x < y :\n",
    "    print(\"x less than y\")"
   ]
  },
  {
   "cell_type": "code",
   "execution_count": 16,
   "metadata": {},
   "outputs": [
    {
     "name": "stdout",
     "output_type": "stream",
     "text": [
      "x is less than 100 and y greater than 0\n"
     ]
    }
   ],
   "source": [
    "if (x < 100) and (y > 0):\n",
    "    print('x is less than 100 and y greater than 0')"
   ]
  },
  {
   "cell_type": "code",
   "execution_count": 17,
   "metadata": {},
   "outputs": [],
   "source": [
    "if (x < 100) and (y < 0):\n",
    "    print('x is less than 100 and y is negative')"
   ]
  },
  {
   "cell_type": "code",
   "execution_count": 25,
   "metadata": {},
   "outputs": [
    {
     "name": "stdout",
     "output_type": "stream",
     "text": [
      "a in ali\n"
     ]
    }
   ],
   "source": [
    "if 'a' in 'ali':\n",
    "    print('a in ali')"
   ]
  },
  {
   "cell_type": "code",
   "execution_count": 26,
   "metadata": {},
   "outputs": [],
   "source": [
    "if 'a' in ['b' ,'c' ,'d' , ]:\n",
    "    print('a found')"
   ]
  },
  {
   "cell_type": "markdown",
   "metadata": {},
   "source": [
    "## Grouping Statements: Indentation and Blocks"
   ]
  },
  {
   "cell_type": "code",
   "execution_count": 32,
   "metadata": {},
   "outputs": [
    {
     "name": "stdout",
     "output_type": "stream",
     "text": [
      "2\n",
      "2\n",
      "2\n"
     ]
    }
   ],
   "source": [
    "x= 2\n",
    "if x :\n",
    "    print(x) \n",
    "    print(x)\n",
    "    print(x)"
   ]
  },
  {
   "cell_type": "markdown",
   "metadata": {},
   "source": [
    "## nested if"
   ]
  },
  {
   "cell_type": "code",
   "execution_count": 37,
   "metadata": {},
   "outputs": [],
   "source": [
    "user = 'ali'\n",
    "age = 17\n",
    "weight = 70"
   ]
  },
  {
   "cell_type": "code",
   "execution_count": 41,
   "metadata": {},
   "outputs": [
    {
     "name": "stdout",
     "output_type": "stream",
     "text": [
      "weight is grater than 60\n",
      "user is ali\n",
      "outside if\n"
     ]
    }
   ],
   "source": [
    "if user == 'ali':\n",
    "    if age > 18:\n",
    "        print('user is +18')\n",
    "    if weight >60:\n",
    "        print('weight is grater than 60')\n",
    "    print('user is ali')\n",
    "        \n",
    "print ('outside if')"
   ]
  },
  {
   "cell_type": "markdown",
   "metadata": {},
   "source": [
    "## The `else` and `elif` Clauses"
   ]
  },
  {
   "cell_type": "markdown",
   "metadata": {},
   "source": [
    "Sometimes, you want to evaluate a condition and take one path if it is true but specify an alternative path if it is not. This is accomplished with an `else` clause:\n",
    "\n",
    "```python\n",
    "if <expr>:\n",
    "    <statement(s)>\n",
    "else:\n",
    "    <statement(s)>\n",
    "```"
   ]
  },
  {
   "cell_type": "code",
   "execution_count": 42,
   "metadata": {},
   "outputs": [],
   "source": [
    "x= -1"
   ]
  },
  {
   "cell_type": "code",
   "execution_count": 43,
   "metadata": {},
   "outputs": [
    {
     "name": "stdout",
     "output_type": "stream",
     "text": [
      "x is negative\n"
     ]
    }
   ],
   "source": [
    "if x>0:\n",
    "    print('x is posetive')\n",
    "else:\n",
    "    print('x is negative')"
   ]
  },
  {
   "cell_type": "code",
   "execution_count": 46,
   "metadata": {},
   "outputs": [
    {
     "name": "stdout",
     "output_type": "stream",
     "text": [
      "none of them\n"
     ]
    }
   ],
   "source": [
    "if x == 0:#agar nabood bro badi ro check kon\n",
    "    print('x=0')\n",
    "elif x == 2:\n",
    "    print('x==2')\n",
    "elif x == 3:\n",
    "    print('x==3')\n",
    "else:\n",
    "    print('none of them')"
   ]
  },
  {
   "cell_type": "code",
   "execution_count": 48,
   "metadata": {},
   "outputs": [
    {
     "name": "stdout",
     "output_type": "stream",
     "text": [
      "none of them\n"
     ]
    }
   ],
   "source": [
    "if x == 0:#har seri kol khat ha ro check mikone\n",
    "    print('x=0')\n",
    "if x == 2:\n",
    "    print('x==2')\n",
    "if x == 3:\n",
    "    print('x==3')\n",
    "else:\n",
    "    print('none of them')"
   ]
  },
  {
   "cell_type": "markdown",
   "metadata": {},
   "source": [
    "##  short-circuit evaluation"
   ]
  },
  {
   "cell_type": "markdown",
   "metadata": {},
   "source": [
    "An `if` statement with `elif` clauses uses short-circuit evaluation, analogous to what you saw with the `and` and `or` operators. Once one of the expressions is found to be true and its block is executed, none of the remaining expressions are tested. This is demonstrated below:"
   ]
  },
  {
   "cell_type": "code",
   "execution_count": 49,
   "metadata": {},
   "outputs": [
    {
     "data": {
      "text/plain": [
       "True"
      ]
     },
     "execution_count": 49,
     "metadata": {},
     "output_type": "execute_result"
    }
   ],
   "source": [
    "True or 0/0"
   ]
  },
  {
   "cell_type": "code",
   "execution_count": 51,
   "metadata": {},
   "outputs": [
    {
     "ename": "ZeroDivisionError",
     "evalue": "division by zero",
     "output_type": "error",
     "traceback": [
      "\u001b[0;31m---------------------------------------------------------------------------\u001b[0m",
      "\u001b[0;31mZeroDivisionError\u001b[0m                         Traceback (most recent call last)",
      "\u001b[0;32m<ipython-input-51-9ab73e148374>\u001b[0m in \u001b[0;36m<module>\u001b[0;34m\u001b[0m\n\u001b[0;32m----> 1\u001b[0;31m \u001b[0;36m0\u001b[0m\u001b[0;34m/\u001b[0m\u001b[0;36m0\u001b[0m\u001b[0;34m\u001b[0m\u001b[0;34m\u001b[0m\u001b[0m\n\u001b[0m",
      "\u001b[0;31mZeroDivisionError\u001b[0m: division by zero"
     ]
    }
   ],
   "source": [
    "0/0"
   ]
  },
  {
   "cell_type": "code",
   "execution_count": 52,
   "metadata": {},
   "outputs": [
    {
     "ename": "ZeroDivisionError",
     "evalue": "division by zero",
     "output_type": "error",
     "traceback": [
      "\u001b[0;31m---------------------------------------------------------------------------\u001b[0m",
      "\u001b[0;31mZeroDivisionError\u001b[0m                         Traceback (most recent call last)",
      "\u001b[0;32m<ipython-input-52-9e1d4cd09666>\u001b[0m in \u001b[0;36m<module>\u001b[0;34m\u001b[0m\n\u001b[0;32m----> 1\u001b[0;31m \u001b[0;36m0\u001b[0m\u001b[0;34m/\u001b[0m\u001b[0;36m0\u001b[0m \u001b[0;32mor\u001b[0m \u001b[0;32mTrue\u001b[0m\u001b[0;34m\u001b[0m\u001b[0;34m\u001b[0m\u001b[0m\n\u001b[0m",
      "\u001b[0;31mZeroDivisionError\u001b[0m: division by zero"
     ]
    }
   ],
   "source": [
    "0/0 or True"
   ]
  },
  {
   "cell_type": "code",
   "execution_count": 53,
   "metadata": {},
   "outputs": [
    {
     "data": {
      "text/plain": [
       "False"
      ]
     },
     "execution_count": 53,
     "metadata": {},
     "output_type": "execute_result"
    }
   ],
   "source": [
    "False and 0/0"
   ]
  },
  {
   "cell_type": "code",
   "execution_count": 54,
   "metadata": {},
   "outputs": [
    {
     "ename": "NameError",
     "evalue": "name 'var' is not defined",
     "output_type": "error",
     "traceback": [
      "\u001b[0;31m---------------------------------------------------------------------------\u001b[0m",
      "\u001b[0;31mNameError\u001b[0m                                 Traceback (most recent call last)",
      "\u001b[0;32m<ipython-input-54-84ddba356ca3>\u001b[0m in \u001b[0;36m<module>\u001b[0;34m\u001b[0m\n\u001b[0;32m----> 1\u001b[0;31m \u001b[0mvar\u001b[0m\u001b[0;34m\u001b[0m\u001b[0;34m\u001b[0m\u001b[0m\n\u001b[0m",
      "\u001b[0;31mNameError\u001b[0m: name 'var' is not defined"
     ]
    }
   ],
   "source": [
    "var"
   ]
  },
  {
   "cell_type": "code",
   "execution_count": 55,
   "metadata": {},
   "outputs": [
    {
     "data": {
      "text/plain": [
       "False"
      ]
     },
     "execution_count": 55,
     "metadata": {},
     "output_type": "execute_result"
    }
   ],
   "source": [
    "False and var"
   ]
  },
  {
   "cell_type": "markdown",
   "metadata": {},
   "source": [
    "## Conditional Expressions (Python’s Ternary Operator)"
   ]
  },
  {
   "cell_type": "code",
   "execution_count": 59,
   "metadata": {},
   "outputs": [
    {
     "name": "stdout",
     "output_type": "stream",
     "text": [
      "x is 2\n"
     ]
    }
   ],
   "source": [
    "x = 2\n",
    "print('x is 2') if x == 2 else print ('x is not 2')"
   ]
  },
  {
   "cell_type": "code",
   "execution_count": 62,
   "metadata": {},
   "outputs": [],
   "source": [
    "age =15\n",
    "can_have_twitter = True if age>13 else False "
   ]
  },
  {
   "cell_type": "code",
   "execution_count": 65,
   "metadata": {},
   "outputs": [
    {
     "data": {
      "text/plain": [
       "True"
      ]
     },
     "execution_count": 65,
     "metadata": {},
     "output_type": "execute_result"
    }
   ],
   "source": [
    "can_have_twitter"
   ]
  },
  {
   "cell_type": "code",
   "execution_count": 66,
   "metadata": {},
   "outputs": [],
   "source": [
    "can_have_twitter = True if age>13 else 0/0"
   ]
  },
  {
   "cell_type": "markdown",
   "metadata": {},
   "source": [
    "## The Python `pass` Statement"
   ]
  },
  {
   "cell_type": "code",
   "execution_count": 67,
   "metadata": {},
   "outputs": [],
   "source": [
    "is_user_login = True"
   ]
  },
  {
   "cell_type": "code",
   "execution_count": 69,
   "metadata": {},
   "outputs": [],
   "source": [
    "if is_user_login :\n",
    "    pass\n",
    "    pass"
   ]
  },
  {
   "cell_type": "code",
   "execution_count": 71,
   "metadata": {},
   "outputs": [],
   "source": [
    "if is_user_login :\n",
    "    #todo:show user profile botten\n",
    "    pass\n",
    "else:\n",
    "    #todo:show sign in user profile\n",
    "    pass \n",
    "    "
   ]
  },
  {
   "cell_type": "markdown",
   "metadata": {},
   "source": [
    "pass yani obor kon vel kon ma ro"
   ]
  },
  {
   "cell_type": "markdown",
   "metadata": {},
   "source": [
    "## questions"
   ]
  },
  {
   "cell_type": "markdown",
   "metadata": {},
   "source": [
    "## Easy Calculater\n",
    "\n",
    "Write a python program to accept two numbers and a mathematical operator and performs operation accordingly.\n",
    "mathematical operations are + - * /"
   ]
  },
  {
   "cell_type": "code",
   "execution_count": 92,
   "metadata": {},
   "outputs": [
    {
     "name": "stdin",
     "output_type": "stream",
     "text": [
      " 5\n",
      " 10\n",
      " +\n"
     ]
    }
   ],
   "source": [
    "in_1= int(input())\n",
    "in_2= int(input())\n",
    "op= input()"
   ]
  },
  {
   "cell_type": "code",
   "execution_count": 96,
   "metadata": {},
   "outputs": [
    {
     "name": "stdout",
     "output_type": "stream",
     "text": [
      "15\n"
     ]
    }
   ],
   "source": [
    "if op == '+':\n",
    "    print(in_1 + in_2)\n",
    "elif op == '/':\n",
    "    print(in_1/in_2)\n",
    "elif op == '-':\n",
    "    print(in_1 - in_2)"
   ]
  },
  {
   "cell_type": "markdown",
   "metadata": {},
   "source": [
    "2)Largest Number\n",
    "\n",
    "Write a program to find the largest number out of three numbers given by the user.  \n",
    "\n",
    "Note: Don't sort numbers. just use conditional statements"
   ]
  },
  {
   "cell_type": "markdown",
   "metadata": {},
   "source": [
    "### 3)Triangle Type\n",
    "\n",
    "Write a program to get three numbers as the sides of a triangle and check whether it is an equilateral, isosceles, or scalene triangle.\n",
    "\n",
    "Note :\n",
    "\n",
    "    An equilateral triangle is a triangle in which all three sides are equal.\n",
    "    A scalene triangle is a triangle that has three unequal sides.\n",
    "    An isosceles triangle is a triangle with (at least) two equal sides.\n",
    "\n"
   ]
  },
  {
   "cell_type": "code",
   "execution_count": null,
   "metadata": {},
   "outputs": [],
   "source": []
  },
  {
   "cell_type": "markdown",
   "metadata": {},
   "source": [
    "### 4)Grading System\n",
    "\n",
    "Pytopia wants to develop a system that divides the entrance exam scores of the python class members into four categories as follows: \n",
    "\n",
    "Marks                         Grade\n",
    " > 90                               A\n",
    " > 80 and <= 90             B\n",
    " >= 60 and <= 80           C\n",
    " below 60                       D\n",
    "\n",
    "Get a score number as input and print the desired class name "
   ]
  },
  {
   "cell_type": "code",
   "execution_count": 85,
   "metadata": {},
   "outputs": [
    {
     "name": "stdin",
     "output_type": "stream",
     "text": [
      " 95\n"
     ]
    }
   ],
   "source": [
    "grade =int(input())"
   ]
  },
  {
   "cell_type": "code",
   "execution_count": 86,
   "metadata": {},
   "outputs": [
    {
     "name": "stdout",
     "output_type": "stream",
     "text": [
      "A\n"
     ]
    }
   ],
   "source": [
    "if grade > 90:\n",
    "    print('A')\n",
    "elif grade <= 90 and grade > 80 :\n",
    "    print ('B')\n",
    "elif grade <= 80 and grade > 60 :\n",
    "    print('C')\n",
    "elif grade < 60 :\n",
    "    print ('D')\n",
    "    "
   ]
  },
  {
   "cell_type": "markdown",
   "metadata": {},
   "source": [
    "### 5)Vowel Or Consonant\n",
    "\n",
    "Write a Python program to check whether an alphabet is a vowel or consonant.  \n",
    "\n",
    "note: input alphabet can also be capital\n",
    "\n",
    "Example:  \n",
    "\n",
    "input:\n",
    "u\n",
    "output:\n",
    "vowel"
   ]
  },
  {
   "cell_type": "code",
   "execution_count": null,
   "metadata": {},
   "outputs": [],
   "source": []
  },
  {
   "cell_type": "markdown",
   "metadata": {},
   "source": [
    "### 6)Conditional Sum\n",
    "\n",
    "Ali is TA. He wants to calculate the student's score based on three tests and if their mean value is between 16 and 20, give them 20, otherwise, put the actual mean score. Help him write a program that gets three input as scores and give the result.\n",
    "\n",
    "inputs :\n",
    "18.75 \n",
    "16.2\n",
    "15.9\n",
    "\n",
    "output:\n",
    "20  "
   ]
  },
  {
   "cell_type": "code",
   "execution_count": 81,
   "metadata": {},
   "outputs": [
    {
     "name": "stdin",
     "output_type": "stream",
     "text": [
      " 18\n"
     ]
    },
    {
     "name": "stdout",
     "output_type": "stream",
     "text": [
      "20\n"
     ]
    }
   ],
   "source": [
    "grade = int(input())\n",
    "\n",
    "if grade >16 and grade <= 20:\n",
    "    grade =20\n",
    "    print (grade)"
   ]
  },
  {
   "cell_type": "markdown",
   "metadata": {},
   "source": [
    "### 7)Find Median\n",
    "\n",
    "Write a Python program to get 3 inputs from the user and find the median of three values without sorting values. only use conditional statements, not any python methods.\n",
    "\n",
    " \n",
    "\n",
    "note: input() gives you string. don't forget to convert it to a float number"
   ]
  },
  {
   "cell_type": "code",
   "execution_count": 73,
   "metadata": {},
   "outputs": [
    {
     "name": "stdout",
     "output_type": "stream",
     "text": [
      "Enter your two number:\n"
     ]
    },
    {
     "name": "stdin",
     "output_type": "stream",
     "text": [
      " 8\n",
      " 9\n",
      " 7\n"
     ]
    },
    {
     "name": "stdout",
     "output_type": "stream",
     "text": [
      " input_1 = 8 input_2 = 9 input_3=7\n"
     ]
    }
   ],
   "source": [
    "print('Enter your two number:')\n",
    "input_1 = input()\n",
    "input_2 = input()\n",
    "input_3 = input()\n",
    "print(f' input_1 = {input_1} input_2 = {input_2} input_3 = {input_3}')"
   ]
  },
  {
   "cell_type": "code",
   "execution_count": 77,
   "metadata": {},
   "outputs": [
    {
     "name": "stdout",
     "output_type": "stream",
     "text": [
      "input_1 is median\n"
     ]
    }
   ],
   "source": [
    "if input_1 > input_2 and input_2 > input_3 :\n",
    "    print('input_2 is median')\n",
    "elif input_2 > input_1 and input_1 > input_3 :\n",
    "    print('input_1 is median')\n",
    "elif input_1 < input_3 and input_3 > input_2 :\n",
    "    print('input_3 is median')    "
   ]
  },
  {
   "cell_type": "code",
   "execution_count": null,
   "metadata": {},
   "outputs": [],
   "source": []
  }
 ],
 "metadata": {
  "kernelspec": {
   "display_name": "Python 3",
   "language": "python",
   "name": "python3"
  },
  "language_info": {
   "codemirror_mode": {
    "name": "ipython",
    "version": 3
   },
   "file_extension": ".py",
   "mimetype": "text/x-python",
   "name": "python",
   "nbconvert_exporter": "python",
   "pygments_lexer": "ipython3",
   "version": "3.7.6"
  }
 },
 "nbformat": 4,
 "nbformat_minor": 4
}
